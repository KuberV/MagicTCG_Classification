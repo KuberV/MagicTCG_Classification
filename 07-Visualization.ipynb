{
 "cells": [
  {
   "cell_type": "markdown",
   "metadata": {},
   "source": [
    "#### SVD didnt work, not enough signal, too many dimensions\n",
    "\n",
    "- reduce the dimensions\n",
    "\n",
    "- incease the signal"
   ]
  },
  {
   "cell_type": "code",
   "execution_count": 1,
   "metadata": {
    "collapsed": true
   },
   "outputs": [],
   "source": [
    "from sklearn.feature_extraction.text import CountVectorizer\n",
    "from sklearn.cross_validation import train_test_split, KFold, cross_val_score\n",
    "import sklearn.metrics as sk\n",
    "\n",
    "import pandas as pd\n",
    "from collections import Counter\n",
    "import numpy as np\n",
    "import nltk\n",
    "\n",
    "import matplotlib.pyplot as plt\n",
    "import seaborn\n",
    "%matplotlib inline"
   ]
  },
  {
   "cell_type": "code",
   "execution_count": 2,
   "metadata": {
    "collapsed": false
   },
   "outputs": [
    {
     "data": {
      "text/plain": [
       "Counter({u'Black': 1576,\n",
       "         u'Blue': 1573,\n",
       "         u'Green': 1566,\n",
       "         u'Red': 1575,\n",
       "         u'White': 1584})"
      ]
     },
     "execution_count": 2,
     "metadata": {},
     "output_type": "execute_result"
    }
   ],
   "source": [
    "modern = pd.read_pickle('data/5color_modern_no_name_hardmode.pkl')\n",
    "Counter(modern.colors)"
   ]
  },
  {
   "cell_type": "code",
   "execution_count": 3,
   "metadata": {
    "collapsed": false
   },
   "outputs": [
    {
     "name": "stdout",
     "output_type": "stream",
     "text": [
      "There are 1,161 words in the vocabulary.\n"
     ]
    }
   ],
   "source": [
    "modern['bincolor'] = pd.Categorical.from_array(modern.colors).codes\n",
    "\n",
    "vectorizer = CountVectorizer()\n",
    "\n",
    "y = modern.bincolor\n",
    "\n",
    "X = vectorizer.fit_transform(modern.text)\n",
    "\n",
    "X_train, X_test, y_train, y_test = train_test_split(X, y, random_state=42)\n",
    "\n",
    "print \"There are {:,} words in the vocabulary.\".format(len(vectorizer.vocabulary_))"
   ]
  },
  {
   "cell_type": "code",
   "execution_count": 4,
   "metadata": {
    "collapsed": false
   },
   "outputs": [
    {
     "name": "stdout",
     "output_type": "stream",
     "text": [
      "Accuracy: 0.702\n"
     ]
    }
   ],
   "source": [
    "from sklearn.linear_model import LogisticRegression\n",
    "\n",
    "clf = LogisticRegression(C=2, multi_class='ovr', solver='liblinear')\n",
    "\n",
    "acc = cross_val_score(clf, X_train, y_train,\n",
    "                       cv=10, scoring='accuracy') \n",
    "\n",
    "print \"Accuracy: %s\" % acc.mean().round(3)"
   ]
  },
  {
   "cell_type": "code",
   "execution_count": null,
   "metadata": {
    "collapsed": false
   },
   "outputs": [
    {
     "name": "stdout",
     "output_type": "stream",
     "text": [
      "There are 1,161 words in the vocabulary.\n",
      "Accuracy: 0.697\n",
      "There are 1,161 words in the vocabulary.\n",
      "Accuracy: 0.697\n",
      "There are 1,161 words in the vocabulary.\n",
      "Accuracy: 0.697\n",
      "There are 1,161 words in the vocabulary.\n",
      "Accuracy: 0.697\n",
      "There are 1,160 words in the vocabulary.\n",
      "Accuracy: 0.697\n",
      "There are 1,150 words in the vocabulary.\n",
      "Accuracy: 0.697\n",
      "There are 1,140 words in the vocabulary.\n",
      "Accuracy: 0.697\n",
      "There are 1,130 words in the vocabulary.\n",
      "Accuracy: 0.697\n",
      "There are 1,120 words in the vocabulary.\n",
      "Accuracy: 0.697\n",
      "There are 1,110 words in the vocabulary.\n",
      "Accuracy: 0.697\n",
      "There are 1,100 words in the vocabulary.\n",
      "Accuracy: 0.697\n",
      "There are 1,090 words in the vocabulary.\n",
      "Accuracy: 0.697\n",
      "There are 1,080 words in the vocabulary.\n",
      "Accuracy: 0.697\n",
      "There are 1,070 words in the vocabulary.\n",
      "Accuracy: 0.697\n",
      "There are 1,060 words in the vocabulary.\n",
      "Accuracy: 0.697\n",
      "There are 1,050 words in the vocabulary.\n",
      "Accuracy: 0.697\n",
      "There are 1,040 words in the vocabulary.\n",
      "Accuracy: 0.697\n",
      "There are 1,030 words in the vocabulary.\n",
      "Accuracy: 0.697\n",
      "There are 1,020 words in the vocabulary.\n",
      "Accuracy: 0.697\n",
      "There are 1,010 words in the vocabulary.\n",
      "Accuracy: 0.697\n",
      "There are 1,000 words in the vocabulary.\n",
      "Accuracy: 0.697\n",
      "There are 990 words in the vocabulary.\n",
      "Accuracy: 0.697\n",
      "There are 980 words in the vocabulary.\n",
      "Accuracy: 0.697\n",
      "There are 970 words in the vocabulary.\n",
      "Accuracy: 0.697\n",
      "There are 960 words in the vocabulary.\n",
      "Accuracy: 0.697\n",
      "There are 950 words in the vocabulary.\n",
      "Accuracy: 0.697\n",
      "There are 940 words in the vocabulary.\n",
      "Accuracy: 0.697\n",
      "There are 930 words in the vocabulary.\n",
      "Accuracy: 0.697\n",
      "There are 920 words in the vocabulary.\n",
      "Accuracy: 0.697\n",
      "There are 910 words in the vocabulary.\n",
      "Accuracy: 0.697\n",
      "There are 900 words in the vocabulary.\n",
      "Accuracy: 0.697\n",
      "There are 890 words in the vocabulary.\n",
      "Accuracy: 0.697\n",
      "There are 880 words in the vocabulary.\n",
      "Accuracy: 0.697\n",
      "There are 870 words in the vocabulary.\n",
      "Accuracy: 0.697\n",
      "There are 860 words in the vocabulary.\n",
      "Accuracy: 0.697\n",
      "There are 850 words in the vocabulary.\n",
      "Accuracy: 0.697\n",
      "There are 840 words in the vocabulary.\n",
      "Accuracy: 0.697\n",
      "There are 830 words in the vocabulary.\n",
      "Accuracy: 0.697\n",
      "There are 820 words in the vocabulary.\n",
      "Accuracy: 0.697\n",
      "There are 810 words in the vocabulary.\n",
      "Accuracy: 0.697\n",
      "There are 800 words in the vocabulary.\n",
      "Accuracy: 0.697\n",
      "There are 790 words in the vocabulary.\n",
      "Accuracy: 0.697\n",
      "There are 780 words in the vocabulary.\n",
      "Accuracy: 0.697\n",
      "There are 770 words in the vocabulary.\n",
      "Accuracy: 0.697\n",
      "There are 760 words in the vocabulary.\n",
      "Accuracy: 0.697\n",
      "There are 750 words in the vocabulary.\n",
      "Accuracy: 0.697\n",
      "There are 740 words in the vocabulary.\n",
      "Accuracy: 0.697\n",
      "There are 730 words in the vocabulary.\n",
      "Accuracy: 0.697\n",
      "There are 720 words in the vocabulary.\n"
     ]
    }
   ],
   "source": [
    "n=1200\n",
    "num_feat = []\n",
    "acc_feat = []\n",
    "\n",
    "for i in xrange(1200/10 -1):\n",
    "    vectorizer = CountVectorizer(max_features=n)\n",
    "\n",
    "    X = vectorizer.fit_transform(modern.text)\n",
    "    \n",
    "    num_feat += [len(vectorizer.vocabulary_)]\n",
    "\n",
    "    print \"There are {:,} words in the vocabulary.\".format(len(vectorizer.vocabulary_))\n",
    "    \n",
    "    clf = LogisticRegression(C=2, multi_class='ovr', solver='liblinear')\n",
    "\n",
    "    acc = cross_val_score(clf, X_train, y_train,\n",
    "                           cv=6, scoring='accuracy') \n",
    "    \n",
    "    acc_feat += [acc]\n",
    "\n",
    "    print \"Accuracy: %s\" % acc.mean().round(3)\n",
    "    \n",
    "    n -= 10\n",
    "    \n",
    "    "
   ]
  },
  {
   "cell_type": "code",
   "execution_count": null,
   "metadata": {
    "collapsed": true
   },
   "outputs": [],
   "source": [
    "num_feat"
   ]
  },
  {
   "cell_type": "code",
   "execution_count": null,
   "metadata": {
    "collapsed": true
   },
   "outputs": [],
   "source": [
    "acc_feat"
   ]
  },
  {
   "cell_type": "code",
   "execution_count": null,
   "metadata": {
    "collapsed": false
   },
   "outputs": [],
   "source": [
    "# seaborn.set_style(\"darkgrid\")\n",
    "plt.plot(zip(num_feat, acc_feat))\n",
    "plt.show()"
   ]
  },
  {
   "cell_type": "code",
   "execution_count": null,
   "metadata": {
    "collapsed": true
   },
   "outputs": [],
   "source": []
  }
 ],
 "metadata": {
  "kernelspec": {
   "display_name": "Python 2",
   "language": "python",
   "name": "python2"
  },
  "language_info": {
   "codemirror_mode": {
    "name": "ipython",
    "version": 2
   },
   "file_extension": ".py",
   "mimetype": "text/x-python",
   "name": "python",
   "nbconvert_exporter": "python",
   "pygments_lexer": "ipython2",
   "version": "2.7.11"
  }
 },
 "nbformat": 4,
 "nbformat_minor": 0
}
