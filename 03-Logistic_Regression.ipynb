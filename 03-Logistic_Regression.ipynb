{
 "cells": [
  {
   "cell_type": "markdown",
   "metadata": {},
   "source": [
    "### Modeling with Logistic Regression \n",
    "\n",
    "Goal: Classify magic cards by color using their text and logistic regression)"
   ]
  },
  {
   "cell_type": "code",
   "execution_count": 2,
   "metadata": {
    "collapsed": false
   },
   "outputs": [],
   "source": [
    "from sklearn.feature_extraction.text import CountVectorizer\n",
    "from sklearn.cross_validation import train_test_split, KFold, cross_val_score\n",
    "import sklearn.metrics as sk\n",
    "\n",
    "import pandas as pd\n",
    "from collections import Counter\n",
    "import numpy as np\n",
    "import nltk\n",
    "\n",
    "import matplotlib.pyplot as plt\n",
    "import seaborn\n",
    "%matplotlib inline"
   ]
  },
  {
   "cell_type": "code",
   "execution_count": 3,
   "metadata": {
    "collapsed": true
   },
   "outputs": [],
   "source": [
    "modern = pd.read_pickle('data/5color_modern_no_name_hardmode.pkl')"
   ]
  },
  {
   "cell_type": "code",
   "execution_count": 4,
   "metadata": {
    "collapsed": false
   },
   "outputs": [
    {
     "data": {
      "text/plain": [
       "Counter({u'Black': 1576,\n",
       "         u'Blue': 1573,\n",
       "         u'Green': 1566,\n",
       "         u'Red': 1575,\n",
       "         u'White': 1584})"
      ]
     },
     "execution_count": 4,
     "metadata": {},
     "output_type": "execute_result"
    }
   ],
   "source": [
    "Counter(modern.colors)"
   ]
  },
  {
   "cell_type": "markdown",
   "metadata": {},
   "source": [
    "After all the data munging the classes are still amazingly balanced.\n",
    "\n",
    "#### Lets single out blue and red for a binary classification\n"
   ]
  },
  {
   "cell_type": "code",
   "execution_count": 9,
   "metadata": {
    "collapsed": false,
    "scrolled": false
   },
   "outputs": [
    {
     "data": {
      "text/html": [
       "<div>\n",
       "<table border=\"1\" class=\"dataframe\">\n",
       "  <thead>\n",
       "    <tr style=\"text-align: right;\">\n",
       "      <th></th>\n",
       "      <th>name</th>\n",
       "      <th>colors</th>\n",
       "      <th>cmc</th>\n",
       "      <th>text</th>\n",
       "    </tr>\n",
       "  </thead>\n",
       "  <tbody>\n",
       "    <tr>\n",
       "      <th>2649</th>\n",
       "      <td>Pinnacle of Rage</td>\n",
       "      <td>Red</td>\n",
       "      <td>6</td>\n",
       "      <td>This deals 3 damage to each of two target crea...</td>\n",
       "    </tr>\n",
       "    <tr>\n",
       "      <th>3042</th>\n",
       "      <td>Send to Sleep</td>\n",
       "      <td>Blue</td>\n",
       "      <td>2</td>\n",
       "      <td>Tap up to two target creatures. Spell mastery ...</td>\n",
       "    </tr>\n",
       "    <tr>\n",
       "      <th>363</th>\n",
       "      <td>Fumiko the Lowblood</td>\n",
       "      <td>Red</td>\n",
       "      <td>4</td>\n",
       "      <td>This has bushido X, where X is the number of a...</td>\n",
       "    </tr>\n",
       "    <tr>\n",
       "      <th>2313</th>\n",
       "      <td>Turn to Slag</td>\n",
       "      <td>Red</td>\n",
       "      <td>5</td>\n",
       "      <td>This deals 5 damage to target creature. Destro...</td>\n",
       "    </tr>\n",
       "    <tr>\n",
       "      <th>949</th>\n",
       "      <td>Delay</td>\n",
       "      <td>Blue</td>\n",
       "      <td>2</td>\n",
       "      <td>Counter target spell. If the spell is countere...</td>\n",
       "    </tr>\n",
       "    <tr>\n",
       "      <th>405</th>\n",
       "      <td>Veil of Secrecy</td>\n",
       "      <td>Blue</td>\n",
       "      <td>2</td>\n",
       "      <td>Target creature gains shroud until end of turn...</td>\n",
       "    </tr>\n",
       "  </tbody>\n",
       "</table>\n",
       "</div>"
      ],
      "text/plain": [
       "                     name colors  cmc  \\\n",
       "2649     Pinnacle of Rage    Red    6   \n",
       "3042        Send to Sleep   Blue    2   \n",
       "363   Fumiko the Lowblood    Red    4   \n",
       "2313         Turn to Slag    Red    5   \n",
       "949                 Delay   Blue    2   \n",
       "405       Veil of Secrecy   Blue    2   \n",
       "\n",
       "                                                   text  \n",
       "2649  This deals 3 damage to each of two target crea...  \n",
       "3042  Tap up to two target creatures. Spell mastery ...  \n",
       "363   This has bushido X, where X is the number of a...  \n",
       "2313  This deals 5 damage to target creature. Destro...  \n",
       "949   Counter target spell. If the spell is countere...  \n",
       "405   Target creature gains shroud until end of turn...  "
      ]
     },
     "execution_count": 9,
     "metadata": {},
     "output_type": "execute_result"
    }
   ],
   "source": [
    "UG = modern.loc[modern['colors'].isin(['Blue', 'Red'])]\n",
    "\n",
    "UG.reset_index(inplace=True)\n",
    "UG.pop('index')\n",
    "\n",
    "UG[['name', 'colors', 'cmc', 'text']].sample(6)"
   ]
  },
  {
   "cell_type": "code",
   "execution_count": 10,
   "metadata": {
    "collapsed": false
   },
   "outputs": [],
   "source": [
    "dummies = pd.get_dummies(UG.colors)\n",
    "# dummies['Green']"
   ]
  },
  {
   "cell_type": "code",
   "execution_count": 11,
   "metadata": {
    "collapsed": false
   },
   "outputs": [
    {
     "name": "stdout",
     "output_type": "stream",
     "text": [
      "There are 815 words in the vocabulary.\n"
     ]
    }
   ],
   "source": [
    "vectorizer = CountVectorizer()\n",
    "\n",
    "vec_X = vectorizer.fit_transform(UG['text'])\n",
    "\n",
    "X_train, X_test, y_train, y_test = train_test_split(vec_X, dummies['Red'],\n",
    "                                             random_state=42)\n",
    "\n",
    "print \"There are {:,} words in the vocabulary.\".format(len(vectorizer.vocabulary_))"
   ]
  },
  {
   "cell_type": "code",
   "execution_count": 12,
   "metadata": {
    "collapsed": false
   },
   "outputs": [
    {
     "name": "stdout",
     "output_type": "stream",
     "text": [
      "MSE: 0.094, Accuracy: 0.906\n"
     ]
    }
   ],
   "source": [
    "# Linear regression \n",
    "from sklearn.linear_model import LogisticRegression\n",
    "\n",
    "clf = LogisticRegression()\n",
    "mses = cross_val_score(clf, X_train, y_train,\n",
    "                       cv=10, scoring='mean_squared_error') * -1\n",
    "\n",
    "acc = cross_val_score(clf, X_train, y_train,\n",
    "                       cv=10, scoring='accuracy') \n",
    "\n",
    "print \"MSE: %s, Accuracy: %s\" % (mses.mean().round(3), acc.mean().round(3))"
   ]
  },
  {
   "cell_type": "markdown",
   "metadata": {},
   "source": [
    "90% accuracy! these two colors were the ones I thought would be most different, but I never would have guessed they would be this easy to classify\n",
    "\n",
    "#### Lets try naive bayes"
   ]
  },
  {
   "cell_type": "code",
   "execution_count": 9,
   "metadata": {
    "collapsed": false
   },
   "outputs": [
    {
     "name": "stdout",
     "output_type": "stream",
     "text": [
      "MSE: 0.151, Accuracy: 0.849\n"
     ]
    }
   ],
   "source": [
    "# Multinomial naive bayes\n",
    "from sklearn.naive_bayes import MultinomialNB\n",
    "\n",
    "nb = MultinomialNB()\n",
    "\n",
    "mses = cross_val_score(nb, X_train, y_train,\n",
    "                       cv=10, scoring='mean_squared_error') * -1\n",
    "\n",
    "acc = cross_val_score(nb, X_train, y_train,\n",
    "                       cv=10, scoring='accuracy') \n",
    "\n",
    "print \"MSE: %s, Accuracy: %s\" % (mses.mean().round(3), acc.mean().round(3))"
   ]
  },
  {
   "cell_type": "code",
   "execution_count": 10,
   "metadata": {
    "collapsed": false
   },
   "outputs": [
    {
     "name": "stdout",
     "output_type": "stream",
     "text": [
      "MSE: 0.15, Accuracy: 0.85\n"
     ]
    }
   ],
   "source": [
    "# Bernoulli naive bayes\n",
    "from sklearn.naive_bayes import BernoulliNB\n",
    "\n",
    "bnb = BernoulliNB()\n",
    "\n",
    "mses = cross_val_score(bnb, X_train, y_train,\n",
    "                       cv=10, scoring='mean_squared_error') * -1\n",
    "\n",
    "acc = cross_val_score(bnb, X_train, y_train,\n",
    "                       cv=10, scoring='accuracy') \n",
    "\n",
    "print \"MSE: %s, Accuracy: %s\" % (mses.mean().round(3), acc.mean().round(3))"
   ]
  },
  {
   "cell_type": "markdown",
   "metadata": {},
   "source": [
    "Not as good as logistic regression\n",
    "\n",
    "### Green vs All Five\n",
    "\n",
    "The next step is separating green from a mix of all the colors"
   ]
  },
  {
   "cell_type": "code",
   "execution_count": 78,
   "metadata": {
    "collapsed": false
   },
   "outputs": [
    {
     "name": "stdout",
     "output_type": "stream",
     "text": [
      "There are 1,161 words in the vocabulary.\n"
     ]
    }
   ],
   "source": [
    "y = pd.get_dummies(modern.colors)['Green']\n",
    "\n",
    "X = vectorizer.fit_transform(modern.text)\n",
    "\n",
    "X_train, X_test, y_train, y_test = train_test_split(X, y, random_state=42)\n",
    "\n",
    "print \"There are {:,} words in the vocabulary.\".format(len(vectorizer.vocabulary_))"
   ]
  },
  {
   "cell_type": "code",
   "execution_count": 79,
   "metadata": {
    "collapsed": false
   },
   "outputs": [
    {
     "name": "stdout",
     "output_type": "stream",
     "text": [
      "MSE: 0.137, Accuracy: 0.863\n"
     ]
    }
   ],
   "source": [
    "# Logistic regression \n",
    "\n",
    "from sklearn.linear_model import LogisticRegression\n",
    "\n",
    "clf = LogisticRegression(solver = 'lbfgs', multi_class='multinomial')\n",
    "\n",
    "mses = cross_val_score(clf, X_train, y_train,\n",
    "                       cv=10, scoring='mean_squared_error') * -1\n",
    "\n",
    "acc = cross_val_score(clf, X_train, y_train,\n",
    "                       cv=10, scoring='accuracy') \n",
    "\n",
    "print \"MSE: %s, Accuracy: %s\" % (mses.mean().round(3), acc.mean().round(3))"
   ]
  },
  {
   "cell_type": "code",
   "execution_count": 80,
   "metadata": {
    "collapsed": false
   },
   "outputs": [
    {
     "name": "stdout",
     "output_type": "stream",
     "text": [
      "MSE: 0.172, Accuracy: 0.828\n"
     ]
    }
   ],
   "source": [
    "# Multinomial naive bayes\n",
    "\n",
    "from sklearn.naive_bayes import MultinomialNB\n",
    "\n",
    "nb = MultinomialNB()\n",
    "mses = cross_val_score(nb, X_train, y_train,\n",
    "                       cv=10, scoring='mean_squared_error') * -1\n",
    "\n",
    "acc = cross_val_score(nb, X_train, y_train,\n",
    "                       cv=10, scoring='accuracy') \n",
    "\n",
    "print \"MSE: %s, Accuracy: %s\" % (mses.mean().round(3), acc.mean().round(3))"
   ]
  },
  {
   "cell_type": "markdown",
   "metadata": {
    "collapsed": true
   },
   "source": [
    "### All Five Vs All Five\n",
    "\n",
    "And now the main event. Five way classification of all the colors."
   ]
  },
  {
   "cell_type": "code",
   "execution_count": 14,
   "metadata": {
    "collapsed": true
   },
   "outputs": [],
   "source": [
    "modern['bincolor'] = pd.Categorical.from_array(modern.colors).codes"
   ]
  },
  {
   "cell_type": "code",
   "execution_count": 15,
   "metadata": {
    "collapsed": false
   },
   "outputs": [
    {
     "name": "stdout",
     "output_type": "stream",
     "text": [
      "There are 1,161 words in the vocabulary.\n"
     ]
    }
   ],
   "source": [
    "vectorizer = CountVectorizer()\n",
    "\n",
    "y = modern.bincolor\n",
    "\n",
    "X = vectorizer.fit_transform(modern.text)\n",
    "\n",
    "X_train, X_test, y_train, y_test = train_test_split(X, y, random_state=42)\n",
    "\n",
    "print \"There are {:,} words in the vocabulary.\".format(len(vectorizer.vocabulary_))"
   ]
  },
  {
   "cell_type": "code",
   "execution_count": 21,
   "metadata": {
    "collapsed": false
   },
   "outputs": [
    {
     "name": "stdout",
     "output_type": "stream",
     "text": [
      "MSE: 1.505, Accuracy: 0.702\n"
     ]
    }
   ],
   "source": [
    "clf = LogisticRegression(C=2, multi_class='ovr', solver='liblinear')\n",
    "\n",
    "mses = cross_val_score(clf, X_train, y_train,\n",
    "                       cv=10, scoring='mean_squared_error') * -1\n",
    "\n",
    "acc = cross_val_score(clf, X_train, y_train,\n",
    "                       cv=10, scoring='accuracy') \n",
    "\n",
    "print \"MSE: %s, Accuracy: %s\" % (mses.mean().round(3), acc.mean().round(3))"
   ]
  },
  {
   "cell_type": "markdown",
   "metadata": {},
   "source": [
    "70% Accuracy with one vs rest and multinomial. Different solvers changed processing time, but not accuracy.\n",
    "\n",
    "Not bad for choosing one out of five categories, but can we improve it? \n",
    "\n",
    "First, what went wrong? \n"
   ]
  },
  {
   "cell_type": "code",
   "execution_count": 67,
   "metadata": {
    "collapsed": false
   },
   "outputs": [
    {
     "data": {
      "image/png": "[encoded data removed]",
      "text/plain": [
       "<matplotlib.figure.Figure at 0x231d1d30>"
      ]
     },
     "metadata": {},
     "output_type": "display_data"
    }
   ],
   "source": [
    "clf.fit(X_train, y_train)\n",
    "\n",
    "label = [\"Black\", \"Blue\", \"Green\", \"Red\", \"White\"]\n",
    "\n",
    "cm = sk.confusion_matrix(y_test, clf.predict(X_test), labels=None)\n",
    "\n",
    "# plot code adapted from http://scikit-learn.org/stable/auto_examples/model_selection/plot_confusion_matrix.html\n",
    "\n",
    "def plot_confusion_matrix(cm, title='Logistic Confusion matrix', cmap=plt.cm.Blues):\n",
    "    plt.imshow(cm, interpolation='nearest', cmap=cmap)\n",
    "    tick_marks = np.arange(len(label))\n",
    "    plt.xticks(tick_marks, label, rotation=45)\n",
    "    plt.yticks(tick_marks, label)    \n",
    "    plt.title(title)\n",
    "    plt.colorbar()\n",
    "    plt.tight_layout()\n",
    "    plt.ylabel('True label')\n",
    "    plt.xlabel('Predicted label')\n",
    "\n",
    "plot_confusion_matrix(cm)   "
   ]
  },
  {
   "cell_type": "markdown",
   "metadata": {},
   "source": [
    "Black and Green seem to be the colors hardest to classify. White and black seem to be the colors most often picked in error. "
   ]
  },
  {
   "cell_type": "code",
   "execution_count": 68,
   "metadata": {
    "collapsed": false
   },
   "outputs": [
    {
     "name": "stdout",
     "output_type": "stream",
     "text": [
      "\t-2.4767\tvigilance      \t\t4.1249\tfear           \n",
      "\t-2.0940\tgain           \t\t3.7348\tswamps         \n",
      "\t-2.0759\treach          \t\t3.0853\tdiscards       \n",
      "\t-1.8800\tartifacts      \t\t3.0124\tsacrifices     \n",
      "\t-1.8680\tattack         \t\t2.7692\tdeathtouch     \n",
      "\t-1.8329\tbloodrush      \t\t2.7267\tmadness        \n",
      "\t-1.7887\tenchantments   \t\t2.6756\tswampwalk      \n",
      "\t-1.7850\tblocking       \t\t2.6012\tlose           \n",
      "\t-1.7179\thaving         \t\t2.5118\trats           \n",
      "\t-1.6980\tfights         \t\t2.5012\tnonblack       \n",
      "\t-1.6718\tsoldier        \t\t2.3586\tintimidate     \n",
      "\t-1.6326\tdraw           \t\t2.2773\tlife           \n",
      "\t-1.6308\tbasic          \t\t2.2034\tdelve          \n",
      "\t-1.6050\tenchantment    \t\t2.1742\tzombie         \n",
      "\t-1.5908\tbase           \t\t2.1418\tloses          \n",
      "\t-1.5753\thands          \t\t2.0497\tblack          \n",
      "\t-1.5337\taura           \t\t2.0140\trogue          \n",
      "\t-1.4986\trenown         \t\t1.8896\tphylactery     \n",
      "\t-1.4738\tuntap          \t\t1.8737\textort         \n",
      "\t-1.4539\tplains         \t\t1.8732\ttheft          \n",
      "\t-1.4296\tcopy           \t\t1.8485\tdemon          \n",
      "\t-1.3942\tlibraries      \t\t1.8448\tgold           \n",
      "\t-1.3743\twerewolf       \t\t1.8346\thomunculus     \n",
      "\t-1.3741\ttrap           \t\t1.7733\tvampire        \n",
      "\t-1.3450\towners         \t\t1.6891\tplans          \n",
      "\t-1.3429\tmountain       \t\t1.6891\tcolfenors      \n",
      "\t-1.3426\treveal         \t\t1.6814\tunearth        \n",
      "\t-1.3366\tface           \t\t1.6628\tthere          \n",
      "\t-1.3321\tspent          \t\t1.6506\tsacrificed     \n",
      "\t-1.3314\tcountered      \t\t1.6449\tcurse          \n"
     ]
    }
   ],
   "source": [
    "def show_most_informative_features(vectorizor, clf, n=30):\n",
    "    feature_names = vectorizor.get_feature_names()\n",
    "    coefs_with_fns = sorted(zip(clf.coef_[0], feature_names))\n",
    "    top = zip(coefs_with_fns[:n], coefs_with_fns[:-(n + 1):-1])\n",
    "    for (coef_1, fn_1), (coef_2, fn_2) in top:\n",
    "        print \"\\t%.4f\\t%-15s\\t\\t%.4f\\t%-15s\" % (coef_1, fn_1, coef_2, fn_2)\n",
    "\n",
    "show_most_informative_features(vectorizer, clf)"
   ]
  },
  {
   "cell_type": "markdown",
   "metadata": {},
   "source": [
    "#### Without Commons\n",
    "\n",
    "Commons are the most basic cards. Almost always they have the least text. Could accuracy be improved by skipping them? "
   ]
  },
  {
   "cell_type": "code",
   "execution_count": 24,
   "metadata": {
    "collapsed": false
   },
   "outputs": [
    {
     "name": "stdout",
     "output_type": "stream",
     "text": [
      "There are 1,047 words in the vocabulary.\n",
      "MSE: 1.669, Accuracy: 0.688\n"
     ]
    }
   ],
   "source": [
    "modern['bincolor'] = pd.Categorical.from_array(modern.colors).codes\n",
    "\n",
    "a = modern.groupby('rarity').get_group('Uncommon')\n",
    "b = modern.groupby('rarity').get_group('Rare')\n",
    "c = modern.groupby('rarity').get_group('Mythic Rare')\n",
    "no_commons = pd.concat([a,b,c])\n",
    "\n",
    "\n",
    "no_commons['bincolor'] = pd.Categorical.from_array(no_commons.colors).codes\n",
    "\n",
    "vectorizer = CountVectorizer()\n",
    "\n",
    "y = no_commons.bincolor\n",
    "\n",
    "X = vectorizer.fit_transform(no_commons.text)\n",
    "\n",
    "X_train, X_test, y_train, y_test = train_test_split(X, y, random_state=42)\n",
    "\n",
    "print \"There are {:,} words in the vocabulary.\".format(len(vectorizer.vocabulary_))\n",
    "\n",
    "clf = LogisticRegression(C=2, multi_class='ovr', solver='liblinear')\n",
    "\n",
    "mses = cross_val_score(clf, X_train, y_train,\n",
    "                       cv=10, scoring='mean_squared_error') * -1\n",
    "\n",
    "acc = cross_val_score(clf, X_train, y_train,\n",
    "                       cv=10, scoring='accuracy') \n",
    "\n",
    "print \"MSE: %s, Accuracy: %s\" % (mses.mean().round(3), acc.mean().round(3))"
   ]
  },
  {
   "cell_type": "markdown",
   "metadata": {},
   "source": [
    "A slight decrease in accuracy, nothing to see here"
   ]
  },
  {
   "cell_type": "markdown",
   "metadata": {},
   "source": [
    "### Just for Fun: Classification by Flavor Text\n",
    "\n",
    "Some cards have text below their abilities with quotes and stories from the world. They have absolutely no effect on the game, but can be fun to read. "
   ]
  },
  {
   "cell_type": "code",
   "execution_count": 69,
   "metadata": {
    "collapsed": false
   },
   "outputs": [
    {
     "name": "stdout",
     "output_type": "stream",
     "text": [
      "There are 10,767 words in the vocabulary.\n"
     ]
    }
   ],
   "source": [
    "vectorizer = CountVectorizer(stop_words=\"english\")\n",
    "\n",
    "flavor_df = modern[pd.notnull(modern.flavor)]\n",
    "\n",
    "y = flavor_df.bincolor\n",
    "\n",
    "X = vectorizer.fit_transform(flavor_df.flavor)\n",
    "\n",
    "X_train, X_test, y_train, y_test = train_test_split(X, y, random_state=42)\n",
    "\n",
    "print \"There are {:,} words in the vocabulary.\".format(len(vectorizer.vocabulary_))"
   ]
  },
  {
   "cell_type": "code",
   "execution_count": 70,
   "metadata": {
    "collapsed": false
   },
   "outputs": [
    {
     "name": "stdout",
     "output_type": "stream",
     "text": [
      "MSE: 2.395, Accuracy: 0.54\n"
     ]
    }
   ],
   "source": [
    "clf = LogisticRegression(C=1)\n",
    "\n",
    "mses = cross_val_score(clf, X_train, y_train,\n",
    "                       cv=10, scoring='mean_squared_error') * -1\n",
    "\n",
    "acc = cross_val_score(clf, X_train, y_train,\n",
    "                       cv=10, scoring='accuracy') \n",
    "\n",
    "print \"MSE: %s, Accuracy: %s\" % (mses.mean().round(3), acc.mean().round(3))"
   ]
  },
  {
   "cell_type": "code",
   "execution_count": 71,
   "metadata": {
    "collapsed": false
   },
   "outputs": [
    {
     "data": {
      "image/png": "[encoded data removed]",
      "text/plain": [
       "<matplotlib.figure.Figure at 0x22630e48>"
      ]
     },
     "metadata": {},
     "output_type": "display_data"
    }
   ],
   "source": [
    "clf.fit(X_train, y_train)\n",
    "\n",
    "cm = sk.confusion_matrix(y_test, clf.predict(X_test), labels=None)\n",
    "\n",
    "plot_confusion_matrix(cm)  "
   ]
  },
  {
   "cell_type": "code",
   "execution_count": 73,
   "metadata": {
    "collapsed": false
   },
   "outputs": [
    {
     "name": "stdout",
     "output_type": "stream",
     "text": [
      "\t-1.3655\tnature         \t\t1.9806\tliliana        \n",
      "\t-1.1212\tflame          \t\t1.6831\tswamp          \n",
      "\t-1.1140\tforest         \t\t1.6378\tsheoldred      \n",
      "\t-1.1099\tgoblin         \t\t1.6215\tdark           \n",
      "\t-1.0553\tpeople         \t\t1.5893\tsilumgar       \n",
      "\t-0.9955\ttimes          \t\t1.5846\tweak           \n",
      "\t-0.9814\tglory          \t\t1.5644\tvictims        \n",
      "\t-0.9562\trage           \t\t1.5617\trats           \n",
      "\t-0.9338\tsafety         \t\t1.5003\tdeath          \n",
      "\t-0.9312\teasy           \t\t1.4906\tpharika        \n",
      "\t-0.9039\tgoblins        \t\t1.4846\tnightmares     \n",
      "\t-0.9023\tsky            \t\t1.4718\tgeth           \n",
      "\t-0.8970\twant           \t\t1.4278\tundeath        \n",
      "\t-0.8761\tkithkin        \t\t1.4015\tfeast          \n",
      "\t-0.8717\tground         \t\t1.3849\tdead           \n",
      "\t-0.8703\tdefend         \t\t1.3560\tvictim         \n",
      "\t-0.8622\thome           \t\t1.3455\tcruelty        \n",
      "\t-0.8578\tenemies        \t\t1.3351\tdimir          \n",
      "\t-0.8558\tdragon         \t\t1.3180\tgrave          \n",
      "\t-0.8523\twolf           \t\t1.3102\tvile           \n",
      "\t-0.8440\tsong           \t\t1.3050\tvess           \n",
      "\t-0.8375\tsurvive        \t\t1.2756\tashiok         \n",
      "\t-0.8293\tflamekin       \t\t1.2634\tundead         \n",
      "\t-0.8221\tpeace          \t\t1.2347\terebos         \n",
      "\t-0.8125\teye            \t\t1.2191\tworst          \n",
      "\t-0.8036\tgiants         \t\t1.2041\tgisa           \n",
      "\t-0.8003\ttree           \t\t1.2010\tshadows        \n",
      "\t-0.7910\twicked         \t\t1.1840\tbreath         \n",
      "\t-0.7902\tgarruk         \t\t1.1759\tnezumi         \n",
      "\t-0.7902\twildspeaker    \t\t1.1605\tmephidross     \n"
     ]
    }
   ],
   "source": [
    "show_most_informative_features(vectorizer, clf)"
   ]
  },
  {
   "cell_type": "code",
   "execution_count": null,
   "metadata": {
    "collapsed": true
   },
   "outputs": [],
   "source": []
  }
 ],
 "metadata": {
  "kernelspec": {
   "display_name": "Python 2",
   "language": "python",
   "name": "python2"
  },
  "language_info": {
   "codemirror_mode": {
    "name": "ipython",
    "version": 2
   },
   "file_extension": ".py",
   "mimetype": "text/x-python",
   "name": "python",
   "nbconvert_exporter": "python",
   "pygments_lexer": "ipython2",
   "version": "2.7.11"
  }
 },
 "nbformat": 4,
 "nbformat_minor": 0
}
