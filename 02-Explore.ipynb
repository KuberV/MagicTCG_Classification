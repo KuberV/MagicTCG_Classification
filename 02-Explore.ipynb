{
 "cells": [
  {
   "cell_type": "markdown",
   "metadata": {},
   "source": [
    "### Data Exploration \n",
    "\n",
    "Goal: explore the data, get a sense of what approaches or classifiers might be needed."
   ]
  },
  {
   "cell_type": "code",
   "execution_count": 3,
   "metadata": {
    "collapsed": false
   },
   "outputs": [],
   "source": [
    "from __future__ import (absolute_import,\n",
    "                        division)\n",
    "\n",
    "import pandas as pd\n",
    "from collections import Counter\n",
    "import numpy as np\n",
    "import nltk\n",
    "\n",
    "import matplotlib.pyplot as plt\n",
    "import seaborn\n",
    "%matplotlib inline"
   ]
  },
  {
   "cell_type": "code",
   "execution_count": 4,
   "metadata": {
    "collapsed": false,
    "scrolled": true
   },
   "outputs": [
    {
     "data": {
      "text/html": [
       "<div>\n",
       "<table border=\"1\" class=\"dataframe\">\n",
       "  <thead>\n",
       "    <tr style=\"text-align: right;\">\n",
       "      <th></th>\n",
       "      <th>artist</th>\n",
       "      <th>cmc</th>\n",
       "      <th>colors</th>\n",
       "      <th>flavor</th>\n",
       "      <th>manaCost</th>\n",
       "      <th>name</th>\n",
       "      <th>power</th>\n",
       "      <th>rarity</th>\n",
       "      <th>text</th>\n",
       "      <th>toughness</th>\n",
       "      <th>type</th>\n",
       "      <th>types</th>\n",
       "      <th>set</th>\n",
       "      <th>releaseDate</th>\n",
       "    </tr>\n",
       "  </thead>\n",
       "  <tbody>\n",
       "    <tr>\n",
       "      <th>0</th>\n",
       "      <td>Michael Sutfin</td>\n",
       "      <td>4</td>\n",
       "      <td>Black</td>\n",
       "      <td>To gaze under its hood is to invite death.</td>\n",
       "      <td>{2}{B}{B}</td>\n",
       "      <td>Abyssal Specter</td>\n",
       "      <td>2</td>\n",
       "      <td>Uncommon</td>\n",
       "      <td>Flying Whenever This deals damage to a player,...</td>\n",
       "      <td>3</td>\n",
       "      <td>Creature — Specter</td>\n",
       "      <td>[Creature]</td>\n",
       "      <td>Eighth Edition</td>\n",
       "      <td>2003-07-28</td>\n",
       "    </tr>\n",
       "    <tr>\n",
       "      <th>1</th>\n",
       "      <td>Wayne England</td>\n",
       "      <td>5</td>\n",
       "      <td>Blue</td>\n",
       "      <td>Pray that it doesn't seek the safety of your l...</td>\n",
       "      <td>{3}{U}{U}</td>\n",
       "      <td>Air Elemental</td>\n",
       "      <td>4</td>\n",
       "      <td>Uncommon</td>\n",
       "      <td>Flying</td>\n",
       "      <td>4</td>\n",
       "      <td>Creature — Elemental</td>\n",
       "      <td>[Creature]</td>\n",
       "      <td>Eighth Edition</td>\n",
       "      <td>2003-07-28</td>\n",
       "    </tr>\n",
       "  </tbody>\n",
       "</table>\n",
       "</div>"
      ],
      "text/plain": [
       "           artist  cmc colors  \\\n",
       "0  Michael Sutfin    4  Black   \n",
       "1   Wayne England    5   Blue   \n",
       "\n",
       "                                              flavor   manaCost  \\\n",
       "0         To gaze under its hood is to invite death.  {2}{B}{B}   \n",
       "1  Pray that it doesn't seek the safety of your l...  {3}{U}{U}   \n",
       "\n",
       "              name power    rarity  \\\n",
       "0  Abyssal Specter     2  Uncommon   \n",
       "1    Air Elemental     4  Uncommon   \n",
       "\n",
       "                                                text toughness  \\\n",
       "0  Flying Whenever This deals damage to a player,...         3   \n",
       "1                                             Flying         4   \n",
       "\n",
       "                   type       types             set releaseDate  \n",
       "0    Creature — Specter  [Creature]  Eighth Edition  2003-07-28  \n",
       "1  Creature — Elemental  [Creature]  Eighth Edition  2003-07-28  "
      ]
     },
     "execution_count": 4,
     "metadata": {},
     "output_type": "execute_result"
    }
   ],
   "source": [
    "# import modern magic cards from file \n",
    "modern = pd.read_pickle('data/5color_modern_no_name_hardmode.pkl')\n",
    "\n",
    "modern.head(2)"
   ]
  },
  {
   "cell_type": "code",
   "execution_count": 5,
   "metadata": {
    "collapsed": false
   },
   "outputs": [
    {
     "data": {
      "image/png": "[encoded data removed]",
      "text/plain": [
       "<matplotlib.figure.Figure at 0x2034fbe0>"
      ]
     },
     "metadata": {},
     "output_type": "display_data"
    }
   ],
   "source": [
    "# drop nans and get a basic scatter matrix \n",
    "\n",
    "numvals = modern[['cmc', 'power', 'toughness']]\n",
    "numvals = numvals[numvals['cmc'].notnull()]\n",
    "numvals = numvals[numvals['power'].notnull()]\n",
    "numvals = numvals[numvals['toughness'].notnull()]\n",
    "\n",
    "pd.scatter_matrix(numvals);"
   ]
  },
  {
   "cell_type": "code",
   "execution_count": 6,
   "metadata": {
    "collapsed": false
   },
   "outputs": [
    {
     "data": {
      "text/plain": [
       "Counter({u'Black': 1576,\n",
       "         u'Blue': 1573,\n",
       "         u'Green': 1566,\n",
       "         u'Red': 1575,\n",
       "         u'White': 1584})"
      ]
     },
     "execution_count": 6,
     "metadata": {},
     "output_type": "execute_result"
    }
   ],
   "source": [
    "# check class balance \n",
    "\n",
    "Counter(modern['colors'])"
   ]
  },
  {
   "cell_type": "markdown",
   "metadata": {},
   "source": [
    "#### Classes are almost perfectly balanced. This is becuase I'm using an artifical dataset. "
   ]
  },
  {
   "cell_type": "code",
   "execution_count": 7,
   "metadata": {
    "collapsed": false
   },
   "outputs": [],
   "source": [
    "def countwords(x):\n",
    "    return len(x)\n",
    "\n",
    "modern['word_count'] = modern['text'].apply(countwords)"
   ]
  },
  {
   "cell_type": "code",
   "execution_count": 22,
   "metadata": {
    "collapsed": false
   },
   "outputs": [
    {
     "data": {
      "image/png": "[encoded data removed]",
      "text/plain": [
       "<matplotlib.figure.Figure at 0x22788518>"
      ]
     },
     "metadata": {},
     "output_type": "display_data"
    }
   ],
   "source": [
    "# word count by color \n",
    "\n",
    "modern.word_count.hist(by=modern.colors, figsize=(10,10), bins=30);"
   ]
  },
  {
   "cell_type": "markdown",
   "metadata": {},
   "source": [
    "#### Long tails, lets check out what cards are out there"
   ]
  },
  {
   "cell_type": "code",
   "execution_count": 30,
   "metadata": {
    "collapsed": false
   },
   "outputs": [
    {
     "data": {
      "text/html": [
       "<div>\n",
       "<table border=\"1\" class=\"dataframe\">\n",
       "  <thead>\n",
       "    <tr style=\"text-align: right;\">\n",
       "      <th></th>\n",
       "      <th>name</th>\n",
       "      <th>colors</th>\n",
       "      <th>text</th>\n",
       "    </tr>\n",
       "  </thead>\n",
       "  <tbody>\n",
       "    <tr>\n",
       "      <th>5012</th>\n",
       "      <td>Skinshifter</td>\n",
       "      <td>Green</td>\n",
       "      <td>{1}: Choose one — • Until end of turn, This be...</td>\n",
       "    </tr>\n",
       "    <tr>\n",
       "      <th>5867</th>\n",
       "      <td>Jace, Architect of Thought</td>\n",
       "      <td>Blue</td>\n",
       "      <td>+1: Until your next turn, whenever a creature ...</td>\n",
       "    </tr>\n",
       "    <tr>\n",
       "      <th>6221</th>\n",
       "      <td>Garruk, Caller of Beasts</td>\n",
       "      <td>Green</td>\n",
       "      <td>+1: Reveal the top five cards of your library....</td>\n",
       "    </tr>\n",
       "  </tbody>\n",
       "</table>\n",
       "</div>"
      ],
      "text/plain": [
       "                            name colors  \\\n",
       "5012                 Skinshifter  Green   \n",
       "5867  Jace, Architect of Thought   Blue   \n",
       "6221    Garruk, Caller of Beasts  Green   \n",
       "\n",
       "                                                   text  \n",
       "5012  {1}: Choose one — • Until end of turn, This be...  \n",
       "5867  +1: Until your next turn, whenever a creature ...  \n",
       "6221  +1: Reveal the top five cards of your library....  "
      ]
     },
     "execution_count": 30,
     "metadata": {},
     "output_type": "execute_result"
    }
   ],
   "source": [
    "modern[modern['word_count'] >= 400][['name', 'colors', 'text']]"
   ]
  },
  {
   "cell_type": "code",
   "execution_count": 34,
   "metadata": {
    "collapsed": false
   },
   "outputs": [
    {
     "data": {
      "image/png": "[encoded data removed]",
      "text/plain": [
       "<matplotlib.figure.Figure at 0x21d250b8>"
      ]
     },
     "metadata": {},
     "output_type": "display_data"
    }
   ],
   "source": [
    "# resource cost by color \n",
    "\n",
    "modern.cmc.hist(by=modern.colors, figsize=(10,10), bins=10);"
   ]
  },
  {
   "cell_type": "code",
   "execution_count": 36,
   "metadata": {
    "collapsed": false
   },
   "outputs": [
    {
     "data": {
      "text/html": [
       "<div>\n",
       "<table border=\"1\" class=\"dataframe\">\n",
       "  <thead>\n",
       "    <tr style=\"text-align: right;\">\n",
       "      <th></th>\n",
       "      <th>name</th>\n",
       "      <th>colors</th>\n",
       "      <th>cmc</th>\n",
       "    </tr>\n",
       "  </thead>\n",
       "  <tbody>\n",
       "    <tr>\n",
       "      <th>521</th>\n",
       "      <td>Blinkmoth Infusion</td>\n",
       "      <td>Blue</td>\n",
       "      <td>14</td>\n",
       "    </tr>\n",
       "    <tr>\n",
       "      <th>5937</th>\n",
       "      <td>Worldspine Wurm</td>\n",
       "      <td>Green</td>\n",
       "      <td>11</td>\n",
       "    </tr>\n",
       "    <tr>\n",
       "      <th>5974</th>\n",
       "      <td>Enter the Infinite</td>\n",
       "      <td>Blue</td>\n",
       "      <td>12</td>\n",
       "    </tr>\n",
       "    <tr>\n",
       "      <th>7219</th>\n",
       "      <td>Temporal Trespass</td>\n",
       "      <td>Blue</td>\n",
       "      <td>11</td>\n",
       "    </tr>\n",
       "  </tbody>\n",
       "</table>\n",
       "</div>"
      ],
      "text/plain": [
       "                    name colors  cmc\n",
       "521   Blinkmoth Infusion   Blue   14\n",
       "5937     Worldspine Wurm  Green   11\n",
       "5974  Enter the Infinite   Blue   12\n",
       "7219   Temporal Trespass   Blue   11"
      ]
     },
     "execution_count": 36,
     "metadata": {},
     "output_type": "execute_result"
    }
   ],
   "source": [
    "# highest resource cost cards\n",
    "\n",
    "modern[modern['cmc'] >= 11][['name', 'colors', 'cmc']]"
   ]
  },
  {
   "cell_type": "code",
   "execution_count": 37,
   "metadata": {
    "collapsed": false
   },
   "outputs": [
    {
     "data": {
      "image/png": "[encoded data removed]",
      "text/plain": [
       "<matplotlib.figure.Figure at 0x21ed0b38>"
      ]
     },
     "metadata": {},
     "output_type": "display_data"
    }
   ],
   "source": [
    "# slice to just creatures and display creature power by color \n",
    "\n",
    "modern2 = modern[modern['power'].notnull()]\n",
    "modern2 = modern2[modern2['toughness'].notnull()]\n",
    "\n",
    "modern2.power = pd.to_numeric(modern2.power, errors='coerce')\n",
    "\n",
    "modern2.power.hist(by=modern2.colors, figsize=(10,10), bins=14)\n",
    "plt.show();\n",
    "    "
   ]
  },
  {
   "cell_type": "code",
   "execution_count": 38,
   "metadata": {
    "collapsed": false
   },
   "outputs": [
    {
     "data": {
      "image/png": "[encoded data removed]",
      "text/plain": [
       "<matplotlib.figure.Figure at 0x23273ac8>"
      ]
     },
     "metadata": {},
     "output_type": "display_data"
    }
   ],
   "source": [
    "# creature toughness by color\n",
    "\n",
    "modern2.toughness = pd.to_numeric(modern2.toughness, errors='coerce')\n",
    "\n",
    "modern2.toughness.hist(by=modern2.colors, figsize=(10,10), bins=14)\n",
    "plt.show();"
   ]
  },
  {
   "cell_type": "code",
   "execution_count": 39,
   "metadata": {
    "collapsed": false
   },
   "outputs": [
    {
     "data": {
      "text/plain": [
       "[(u'Flying', 57),\n",
       " (u'Reach ', 19),\n",
       " (u'Destroy target artifact or enchantment.', 15),\n",
       " (u'Haste ', 15),\n",
       " (u'Tap : Add {1} to your mana pool.', 13),\n",
       " (u'Target player discards two cards.', 13),\n",
       " (u'Draw two cards.', 12),\n",
       " (u'Swampwalk ', 12),\n",
       " (u'Flying ', 12),\n",
       " (u'Counter target spell.', 11)]"
      ]
     },
     "execution_count": 39,
     "metadata": {},
     "output_type": "execute_result"
    }
   ],
   "source": [
    "# most common card descriptions \n",
    "\n",
    "freq = nltk.FreqDist(modern.text)\n",
    "train_common = freq.most_common()\n",
    "train_common[:10]"
   ]
  },
  {
   "cell_type": "code",
   "execution_count": 40,
   "metadata": {
    "collapsed": false
   },
   "outputs": [
    {
     "name": "stdout",
     "output_type": "stream",
     "text": [
      "There are 1161 unique words in the vocabulary.\n"
     ]
    }
   ],
   "source": [
    "# vocab size\n",
    "\n",
    "from sklearn.feature_extraction.text import CountVectorizer\n",
    "\n",
    "vectorizer = CountVectorizer(lowercase=True)\n",
    "vectorized_data = vectorizer.fit_transform(modern.text) \n",
    "vocab = len(vectorizer.vocabulary_)\n",
    "\n",
    "print \"There are %s unique words in the vocabulary.\" % vocab"
   ]
  },
  {
   "cell_type": "markdown",
   "metadata": {},
   "source": [
    "### Top Words"
   ]
  },
  {
   "cell_type": "code",
   "execution_count": 41,
   "metadata": {
    "collapsed": false
   },
   "outputs": [
    {
     "name": "stdout",
     "output_type": "stream",
     "text": [
      "Top words from all cards\n"
     ]
    },
    {
     "data": {
      "text/plain": [
       "[u'this',\n",
       " u'creature',\n",
       " u'the',\n",
       " u'you',\n",
       " u'target',\n",
       " u'of',\n",
       " u'to',\n",
       " u'your',\n",
       " u'or',\n",
       " u'battlefield']"
      ]
     },
     "execution_count": 41,
     "metadata": {},
     "output_type": "execute_result"
    }
   ],
   "source": [
    "# top 10 words \n",
    "\n",
    "def top_words(corpus, num, stop=None):\n",
    "    vectorizer = CountVectorizer(stop_words=stop, lowercase=True)\n",
    "    vectorized_data = vectorizer.fit_transform(corpus.text) \n",
    "    freqs = [(word, vectorized_data.getcol(idx).sum()) for word, idx \n",
    "             in vectorizer.vocabulary_.items()]\n",
    "    words =  sorted (freqs, key = lambda x: -x[1])\n",
    "    return [i[0] for i in words[:num]]\n",
    "\n",
    "print \"Top words from all cards\"\n",
    "top_words(modern, 10)"
   ]
  },
  {
   "cell_type": "code",
   "execution_count": 42,
   "metadata": {
    "collapsed": false
   },
   "outputs": [
    {
     "name": "stdout",
     "output_type": "stream",
     "text": [
      "Top Black words\n",
      "[u'creature', u'this', u'the', u'target', u'you', u'of', u'your', u'card', u'to', u'player']\n",
      "\n",
      "Top Blue words\n",
      "[u'the', u'this', u'target', u'of', u'creature', u'you', u'or', u'card', u'your', u'to']\n",
      "\n",
      "Top Green words\n",
      "[u'creature', u'this', u'the', u'your', u'you', u'of', u'battlefield', u'target', u'put', u'to']\n",
      "\n",
      "Top Red words\n",
      "[u'this', u'creature', u'to', u'target', u'damage', u'of', u'the', u'deals', u'you', u'turn']\n",
      "\n",
      "Top White words\n",
      "[u'creature', u'this', u'you', u'the', u'target', u'battlefield', u'of', u'to', u'control', u'turn']\n",
      "\n"
     ]
    }
   ],
   "source": [
    "# top 10 words of each color \n",
    "\n",
    "def top_colors(sliced, num, stop=None):\n",
    "    label = [\"Black\", \"Blue\", \"Green\", \"Red\", \"White\"]\n",
    "    for l in label:\n",
    "        print \"Top %s words\" % l\n",
    "        print top_words(sliced.groupby('colors').get_group(l), num, stop)\n",
    "        print \n",
    "\n",
    "top_colors(modern, 10)"
   ]
  },
  {
   "cell_type": "markdown",
   "metadata": {
    "collapsed": true
   },
   "source": [
    "### With stop words removed "
   ]
  },
  {
   "cell_type": "code",
   "execution_count": 43,
   "metadata": {
    "collapsed": false
   },
   "outputs": [
    {
     "name": "stdout",
     "output_type": "stream",
     "text": [
      "Top words from all cards\n",
      "[u'creature', u'target', u'battlefield', u'turn', u'control', u'card', u'end', u'player', u'damage', u'flying']\n"
     ]
    }
   ],
   "source": [
    "print \"Top words from all cards\"\n",
    "print top_words(modern, 10, stop='english')"
   ]
  },
  {
   "cell_type": "code",
   "execution_count": 44,
   "metadata": {
    "collapsed": false
   },
   "outputs": [
    {
     "name": "stdout",
     "output_type": "stream",
     "text": [
      "Top Black words\n",
      "[u'creature', u'target', u'card', u'player', u'life', u'battlefield', u'turn', u'end', u'cards', u'control']\n",
      "\n",
      "Top Blue words\n",
      "[u'target', u'creature', u'card', u'flying', u'cards', u'library', u'control', u'battlefield', u'hand', u'spell']\n",
      "\n",
      "Top Green words\n",
      "[u'creature', u'battlefield', u'target', u'control', u'turn', u'card', u'library', u'end', u'gets', u'enters']\n",
      "\n",
      "Top Red words\n",
      "[u'creature', u'target', u'damage', u'deals', u'turn', u'player', u'end', u'control', u'battlefield', u'creatures']\n",
      "\n",
      "Top White words\n",
      "[u'creature', u'target', u'battlefield', u'control', u'turn', u'flying', u'creatures', u'end', u'damage', u'enters']\n",
      "\n"
     ]
    }
   ],
   "source": [
    "top_colors(modern, 10, stop='english')"
   ]
  },
  {
   "cell_type": "code",
   "execution_count": 45,
   "metadata": {
    "collapsed": false
   },
   "outputs": [
    {
     "data": {
      "text/html": [
       "<div>\n",
       "<table border=\"1\" class=\"dataframe\">\n",
       "  <thead>\n",
       "    <tr style=\"text-align: right;\">\n",
       "      <th></th>\n",
       "      <th>Black</th>\n",
       "      <th>Blue</th>\n",
       "      <th>Green</th>\n",
       "      <th>Red</th>\n",
       "      <th>White</th>\n",
       "    </tr>\n",
       "  </thead>\n",
       "  <tbody>\n",
       "    <tr>\n",
       "      <th>0</th>\n",
       "      <td>creature</td>\n",
       "      <td>target</td>\n",
       "      <td>creature</td>\n",
       "      <td>creature</td>\n",
       "      <td>creature</td>\n",
       "    </tr>\n",
       "    <tr>\n",
       "      <th>1</th>\n",
       "      <td>target</td>\n",
       "      <td>creature</td>\n",
       "      <td>battlefield</td>\n",
       "      <td>target</td>\n",
       "      <td>target</td>\n",
       "    </tr>\n",
       "    <tr>\n",
       "      <th>2</th>\n",
       "      <td>card</td>\n",
       "      <td>card</td>\n",
       "      <td>target</td>\n",
       "      <td>damage</td>\n",
       "      <td>battlefield</td>\n",
       "    </tr>\n",
       "    <tr>\n",
       "      <th>3</th>\n",
       "      <td>player</td>\n",
       "      <td>flying</td>\n",
       "      <td>control</td>\n",
       "      <td>deals</td>\n",
       "      <td>control</td>\n",
       "    </tr>\n",
       "    <tr>\n",
       "      <th>4</th>\n",
       "      <td>life</td>\n",
       "      <td>cards</td>\n",
       "      <td>turn</td>\n",
       "      <td>turn</td>\n",
       "      <td>turn</td>\n",
       "    </tr>\n",
       "    <tr>\n",
       "      <th>5</th>\n",
       "      <td>battlefield</td>\n",
       "      <td>library</td>\n",
       "      <td>card</td>\n",
       "      <td>player</td>\n",
       "      <td>flying</td>\n",
       "    </tr>\n",
       "    <tr>\n",
       "      <th>6</th>\n",
       "      <td>turn</td>\n",
       "      <td>control</td>\n",
       "      <td>library</td>\n",
       "      <td>end</td>\n",
       "      <td>creatures</td>\n",
       "    </tr>\n",
       "    <tr>\n",
       "      <th>7</th>\n",
       "      <td>end</td>\n",
       "      <td>battlefield</td>\n",
       "      <td>end</td>\n",
       "      <td>control</td>\n",
       "      <td>end</td>\n",
       "    </tr>\n",
       "    <tr>\n",
       "      <th>8</th>\n",
       "      <td>cards</td>\n",
       "      <td>hand</td>\n",
       "      <td>gets</td>\n",
       "      <td>battlefield</td>\n",
       "      <td>damage</td>\n",
       "    </tr>\n",
       "    <tr>\n",
       "      <th>9</th>\n",
       "      <td>control</td>\n",
       "      <td>spell</td>\n",
       "      <td>enters</td>\n",
       "      <td>creatures</td>\n",
       "      <td>enters</td>\n",
       "    </tr>\n",
       "  </tbody>\n",
       "</table>\n",
       "</div>"
      ],
      "text/plain": [
       "         Black         Blue        Green          Red        White\n",
       "0     creature       target     creature     creature     creature\n",
       "1       target     creature  battlefield       target       target\n",
       "2         card         card       target       damage  battlefield\n",
       "3       player       flying      control        deals      control\n",
       "4         life        cards         turn         turn         turn\n",
       "5  battlefield      library         card       player       flying\n",
       "6         turn      control      library          end    creatures\n",
       "7          end  battlefield          end      control          end\n",
       "8        cards         hand         gets  battlefield       damage\n",
       "9      control        spell       enters    creatures       enters"
      ]
     },
     "execution_count": 45,
     "metadata": {},
     "output_type": "execute_result"
    }
   ],
   "source": [
    "# with formatting \n",
    "\n",
    "def top_colors(sliced, num, stop=None):\n",
    "    label = [\"Black\", \"Blue\", \"Green\", \"Red\", \"White\"]\n",
    "    df = pd.DataFrame(np.repeat(\" \", (num * 5)).reshape((num, 5)), columns=label)\n",
    "    for l in label:\n",
    "        top = top_words(sliced.groupby('colors').get_group(l), num, stop)\n",
    "        for n in xrange(num):\n",
    "            df[l][n] = top[n]\n",
    "    return df\n",
    "\n",
    "top_colors(modern, 10, stop='english')"
   ]
  }
 ],
 "metadata": {
  "kernelspec": {
   "display_name": "Python 2",
   "language": "python",
   "name": "python2"
  },
  "language_info": {
   "codemirror_mode": {
    "name": "ipython",
    "version": 2
   },
   "file_extension": ".py",
   "mimetype": "text/x-python",
   "name": "python",
   "nbconvert_exporter": "python",
   "pygments_lexer": "ipython2",
   "version": "2.7.11"
  }
 },
 "nbformat": 4,
 "nbformat_minor": 0
}
