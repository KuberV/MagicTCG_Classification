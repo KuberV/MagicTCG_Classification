{
 "cells": [
  {
   "cell_type": "markdown",
   "metadata": {},
   "source": [
    "### Ensemble Classification\n",
    "\n",
    "Goal: Beat logistic regression with machine learning"
   ]
  },
  {
   "cell_type": "code",
   "execution_count": 1,
   "metadata": {
    "collapsed": false
   },
   "outputs": [],
   "source": [
    "from sklearn.feature_extraction.text import CountVectorizer\n",
    "from sklearn.cross_validation import train_test_split, KFold, cross_val_score\n",
    "import sklearn.metrics as sk\n",
    "from sklearn.grid_search import GridSearchCV\n",
    "\n",
    "import pandas as pd\n",
    "from collections import Counter\n",
    "import numpy as np\n",
    "import nltk\n",
    "\n",
    "import matplotlib.pyplot as plt\n",
    "%matplotlib inline"
   ]
  },
  {
   "cell_type": "code",
   "execution_count": 2,
   "metadata": {
    "collapsed": false
   },
   "outputs": [
    {
     "name": "stdout",
     "output_type": "stream",
     "text": [
      "There are 1,229 words in the vocabulary.\n"
     ]
    }
   ],
   "source": [
    "# read in and vectorize \n",
    "\n",
    "modern = pd.read_pickle('data/cards_modern_no_name.pkl')\n",
    "\n",
    "modern['bincolor'] = pd.Categorical.from_array(modern.colors).codes\n",
    "\n",
    "y = modern.bincolor\n",
    "\n",
    "vectorizer = CountVectorizer()\n",
    "X = vectorizer.fit_transform(modern.text)\n",
    "\n",
    "X_train, X_test, y_train, y_test = train_test_split(X, y,\n",
    "                                             random_state=42)\n",
    "\n",
    "print \"There are {:,} words in the vocabulary.\".format(len(vectorizer.vocabulary_))"
   ]
  },
  {
   "cell_type": "code",
   "execution_count": 3,
   "metadata": {
    "collapsed": false
   },
   "outputs": [
    {
     "name": "stdout",
     "output_type": "stream",
     "text": [
      "MSE: 1.639, Accuracy: 0.677\n"
     ]
    }
   ],
   "source": [
    "# Extreme Trees \n",
    "\n",
    "from sklearn.ensemble import ExtraTreesClassifier\n",
    "\n",
    "rf = ExtraTreesClassifier(n_estimators=100, min_samples_leaf=2, n_jobs=-1)\n",
    "rf.fit(X_train, y_train)\n",
    "\n",
    "mses = cross_val_score(rf, X_train, y_train,\n",
    "                       cv=3, scoring='mean_squared_error') * -1\n",
    "\n",
    "acc = cross_val_score(rf, X_train, y_train,\n",
    "                       cv=3, scoring='accuracy') \n",
    "\n",
    "print \"MSE: %s, Accuracy: %s\" % (mses.mean().round(3), acc.mean().round(3))"
   ]
  },
  {
   "cell_type": "markdown",
   "metadata": {},
   "source": [
    "#### Not as good as logistic regression.\n",
    "\n",
    "#### Grid searching may optimize parameters a bit. "
   ]
  },
  {
   "cell_type": "code",
   "execution_count": 35,
   "metadata": {
    "collapsed": false
   },
   "outputs": [
    {
     "name": "stderr",
     "output_type": "stream",
     "text": [
      "[Parallel(n_jobs=1)]: Done   1 jobs       | elapsed:    1.0s\n",
      "[Parallel(n_jobs=1)]: Done  50 jobs       | elapsed:  4.3min\n",
      "[Parallel(n_jobs=1)]: Done 200 jobs       | elapsed: 12.5min\n",
      "[Parallel(n_jobs=1)]: Done 432 out of 432 | elapsed: 31.1min finished\n"
     ]
    },
    {
     "name": "stdout",
     "output_type": "stream",
     "text": [
      "Fitting 3 folds for each of 144 candidates, totalling 432 fits\n",
      "Best parameters: {u'max_features': None, u'n_estimators': 500, u'bootstrap': True, u'max_depth': None, u'min_samples_leaf': 2}\n"
     ]
    }
   ],
   "source": [
    "# Grid search extreme trees\n",
    "\n",
    "param_grid = { \n",
    "    'n_estimators': [80, 100, 200, 500],\n",
    "    'min_samples_leaf': [1, 2, 5],\n",
    "    'max_depth': [None, 8, 10],\n",
    "    'bootstrap': [True, False],\n",
    "    'max_features': ['log2', None]}\n",
    "\n",
    "CV_rf = GridSearchCV(estimator=rf, \n",
    "                     param_grid=param_grid, \n",
    "                     cv= 3,\n",
    "                     verbose=True,\n",
    "                     scoring='mean_squared_error')\n",
    "\n",
    "print \"Best parameters:\", CV_rf.best_params_"
   ]
  },
  {
   "cell_type": "code",
   "execution_count": 4,
   "metadata": {
    "collapsed": false
   },
   "outputs": [
    {
     "name": "stdout",
     "output_type": "stream",
     "text": [
      "MSE: 1.653, Accuracy: 0.678\n"
     ]
    }
   ],
   "source": [
    "CV_rf = ExtraTreesClassifier(n_estimators=500, \n",
    "                             max_features=None, \n",
    "                             min_samples_leaf=2, \n",
    "                             bootstrap=True, \n",
    "                             n_jobs=-1)\n",
    "\n",
    "CV_rf.fit(X_train, y_train)\n",
    "\n",
    "mses = cross_val_score(rf, X_train, y_train,\n",
    "                       cv=3, scoring='mean_squared_error') * -1\n",
    "\n",
    "acc = cross_val_score(rf, X_train, y_train,\n",
    "                       cv=3, scoring='accuracy') \n",
    "\n",
    "print \"MSE: %s, Accuracy: %s\" % (mses.mean().round(3), acc.mean().round(3))"
   ]
  },
  {
   "cell_type": "markdown",
   "metadata": {},
   "source": [
    "#### .1% improvement after extensive parameter search"
   ]
  },
  {
   "cell_type": "code",
   "execution_count": 5,
   "metadata": {
    "collapsed": false
   },
   "outputs": [
    {
     "data": {
      "text/plain": [
       "array([ 249,  487, 1054,  233,  626,  282,  412, 1079,  638], dtype=int64)"
      ]
     },
     "execution_count": 5,
     "metadata": {},
     "output_type": "execute_result"
    }
   ],
   "source": [
    "# feature ranking \n",
    "\n",
    "importances = CV_rf.feature_importances_\n",
    "\n",
    "indices = np.argsort(importances)[::-1]\n",
    "\n",
    "indices[:9]"
   ]
  },
  {
   "cell_type": "code",
   "execution_count": 6,
   "metadata": {
    "collapsed": false
   },
   "outputs": [
    {
     "name": "stdout",
     "output_type": "stream",
     "text": [
      "Feature ranking:\n",
      "\n",
      "1. deals (0.034390)\n",
      "2. haste (0.025727)\n",
      "3. target (0.021227)\n",
      "4. creature (0.020228)\n",
      "5. life (0.020083)\n",
      "6. discards (0.019211)\n",
      "7. flying (0.018975)\n",
      "8. this (0.016125)\n",
      "9. loses (0.015160)\n",
      "10. draw (0.014979)\n",
      "11. green (0.014480)\n",
      "12. black (0.013279)\n",
      "13. white (0.013271)\n",
      "14. destroy (0.012911)\n",
      "15. trample (0.012883)\n",
      "16. vigilance (0.012711)\n",
      "17. you (0.011902)\n",
      "18. damage (0.011867)\n",
      "19. gets (0.011085)\n",
      "20. turn (0.010482)\n"
     ]
    }
   ],
   "source": [
    "print(\"Feature ranking:\")\n",
    "print \n",
    "\n",
    "for i in xrange(20):\n",
    "    for key, value in vectorizer.vocabulary_.items():\n",
    "        if value == indices[i]:\n",
    "            print(\"%d. %s (%f)\" % (i + 1, key, importances[indices[i]]))"
   ]
  },
  {
   "cell_type": "code",
   "execution_count": 8,
   "metadata": {
    "collapsed": false
   },
   "outputs": [
    {
     "data": {
      "image/png": "[encoded data removed]",
      "text/plain": [
       "<matplotlib.figure.Figure at 0x3b22c88>"
      ]
     },
     "metadata": {},
     "output_type": "display_data"
    }
   ],
   "source": [
    "num_feat = 100 \n",
    "\n",
    "plt.figure()\n",
    "plt.title(\"Feature importances\")\n",
    "plt.bar(range(num_feat), importances[indices[:num_feat]],\n",
    "       color=\"r\", align=\"center\")\n",
    "plt.xlim([-1, num_feat])\n",
    "plt.show()"
   ]
  },
  {
   "cell_type": "code",
   "execution_count": 107,
   "metadata": {
    "collapsed": false
   },
   "outputs": [
    {
     "data": {
      "image/png": "[encoded data removed]",
      "text/plain": [
       "<matplotlib.figure.Figure at 0x2016f668>"
      ]
     },
     "metadata": {},
     "output_type": "display_data"
    }
   ],
   "source": [
    "n, acc = 1, [[],[]]\n",
    "while n <= 1000:\n",
    "    et = ExtraTreesClassifier(n_estimators=n, \n",
    "                              min_samples_leaf=2, \n",
    "                              bootstrap=True,\n",
    "                              n_jobs=-1)\n",
    "    \n",
    "    xacc = cross_val_score(et, X_train, y_train,\n",
    "                          cv=3, scoring='accuracy') \n",
    "    acc[0] += [n]\n",
    "    acc[1] += [xacc.mean()]\n",
    "    \n",
    "    if n < 25:\n",
    "        n += 2\n",
    "    if n < 100 and n >= 25:\n",
    "        n += 10\n",
    "    if n >= 100:\n",
    "        n += 20\n",
    "    \n",
    "plt.figure()\n",
    "plt.title(\"Accuracy VS Num Features\")\n",
    "plt.scatter(acc[0], acc[1])\n",
    "plt.show();"
   ]
  },
  {
   "cell_type": "code",
   "execution_count": 7,
   "metadata": {
    "collapsed": false
   },
   "outputs": [
    {
     "name": "stdout",
     "output_type": "stream",
     "text": [
      "MSE: 1.696, Accuracy: 0.672\n"
     ]
    }
   ],
   "source": [
    "from sklearn.ensemble import GradientBoostingClassifier\n",
    "\n",
    "gd = GradientBoostingClassifier(n_estimators = 40,\n",
    "                                learning_rate = 0.5,\n",
    "                                min_samples_leaf = 1,\n",
    "                                random_state=42)\n",
    "\n",
    "mses = cross_val_score(gd, X_train.toarray(), y_train,\n",
    "                       cv=3, scoring='mean_squared_error') * -1\n",
    "\n",
    "acc = cross_val_score(gd, X_train.toarray(), y_train,\n",
    "                       cv=3, scoring='accuracy') \n",
    "\n",
    "print \"MSE: %s, Accuracy: %s\" % (mses.mean().round(3), acc.mean().round(3))"
   ]
  },
  {
   "cell_type": "code",
   "execution_count": 118,
   "metadata": {
    "collapsed": false
   },
   "outputs": [
    {
     "name": "stderr",
     "output_type": "stream",
     "text": [
      "[Parallel(n_jobs=1)]: Done   1 jobs       | elapsed:  1.4min\n",
      "[Parallel(n_jobs=1)]: Done   6 out of   6 | elapsed:  8.5min finished\n"
     ]
    },
    {
     "name": "stdout",
     "output_type": "stream",
     "text": [
      "Fitting 3 folds for each of 2 candidates, totalling 6 fits\n",
      " GD boost best parameters: {u'n_estimators': 80, u'learning_rate': 0.5, u'min_samples_leaf': 1}\n"
     ]
    }
   ],
   "source": [
    "# Gradient Descent Boost grid search \n",
    "\n",
    "from sklearn.ensemble import GradientBoostingClassifier\n",
    "\n",
    "gd_boost_grid = {'learning_rate': [.1, .5],\n",
    "            'n_estimators': [100, 200],\n",
    "              'min_samples_leaf': [1, 2]}\n",
    "\n",
    "gd_gridsearch = GridSearchCV(GradientBoostingClassifier(random_state=42),\n",
    "                             param_grid=gd_boost_grid,\n",
    "                             verbose=True,\n",
    "                             cv= 3,\n",
    "                             scoring='mean_squared_error')\n",
    "\n",
    "gd_gridsearch.fit(X_train.toarray(), y_train)\n",
    "\n",
    "print \"GD boost best parameters:\", gd_gridsearch.best_params_"
   ]
  },
  {
   "cell_type": "code",
   "execution_count": 11,
   "metadata": {
    "collapsed": false
   },
   "outputs": [
    {
     "data": {
      "image/png": "[encoded data removed]",
      "text/plain": [
       "<matplotlib.figure.Figure at 0x10f41ab50>"
      ]
     },
     "metadata": {},
     "output_type": "display_data"
    }
   ],
   "source": [
    "# Gradient Boost confusion matrix \n",
    "\n",
    "gd_gridsearch = GradientBoostingClassifier(n_estimators = 80,\n",
    "                                            learning_rate = 0.5,\n",
    "                                            min_samples_leaf = 1,\n",
    "                                            random_state=42)\n",
    "\n",
    "gd_gridsearch.fit(X_train.toarray(), y_train)\n",
    "\n",
    "\n",
    "cm2 = sk.confusion_matrix(y_test, gd_gridsearch.predict(X_test.toarray()))\n",
    "\n",
    "label = [\"Black\", \"Blue\", \"Green\", \"Red\", \"White\"]\n",
    "\n",
    "def plot_confusion_matrix(cm, title='Logistic Confusion matrix', cmap=plt.cm.Blues):\n",
    "    plt.imshow(cm, interpolation='nearest', cmap=cmap)\n",
    "    tick_marks = np.arange(len(label))\n",
    "    plt.xticks(tick_marks, label, rotation=45)\n",
    "    plt.yticks(tick_marks, label)    \n",
    "    plt.title(title)\n",
    "    plt.colorbar()\n",
    "    plt.tight_layout()\n",
    "    plt.ylabel('True label')\n",
    "    plt.xlabel('Predicted label')\n",
    "\n",
    "plot_confusion_matrix(cm2, title=\"GD Gridsearch Confusion Matrix\");"
   ]
  },
  {
   "cell_type": "code",
   "execution_count": 14,
   "metadata": {
    "collapsed": false
   },
   "outputs": [
    {
     "data": {
      "image/png": "[encoded data removed]",
      "text/plain": [
       "<matplotlib.figure.Figure at 0x10cdb7e90>"
      ]
     },
     "metadata": {},
     "output_type": "display_data"
    }
   ],
   "source": [
    "# Extra Trees confusion matrix \n",
    "\n",
    "cm = sk.confusion_matrix(y_test, CV_rf.predict(X_test))\n",
    "\n",
    "plot_confusion_matrix(cm, title=\"RF Confusion Matrix\");  "
   ]
  },
  {
   "cell_type": "code",
   "execution_count": 12,
   "metadata": {
    "collapsed": false
   },
   "outputs": [
    {
     "data": {
      "image/png": "[encoded data removed]",
      "text/plain": [
       "<matplotlib.figure.Figure at 0x10f431950>"
      ]
     },
     "metadata": {},
     "output_type": "display_data"
    }
   ],
   "source": [
    "# logistic confusion matrix \n",
    "\n",
    "from sklearn.linear_model import LogisticRegression\n",
    "\n",
    "clf = LogisticRegression(C=2)\n",
    "\n",
    "clf.fit(X_train, y_train)\n",
    "\n",
    "cm3 = sk.confusion_matrix(y_test, clf.predict(X_test), labels=None)\n",
    "\n",
    "plot_confusion_matrix(cm3, title=\"Logistic Confusion Matrix\");  "
   ]
  },
  {
   "cell_type": "code",
   "execution_count": 14,
   "metadata": {
    "collapsed": false
   },
   "outputs": [],
   "source": [
    "from sklearn.metrics import roc_curve\n",
    "\n",
    "def get_scores(model, **kwargs):\n",
    "    model.fit(X_train.toarray(), y_train)\n",
    "    y_prods = model.predict_proba(X_test.toarray())\n",
    "    y_prod = [b[i] for i, b in zip(y_test, y_prods)]\n",
    "    y_pred = model.predict(X_test.toarray()) \n",
    "    y_true = [1 if a==b else 0 for a,b in zip(y_test, y_pred)]\n",
    "    recall, precision, thresh = roc_curve(y_true, y_prod)\n",
    "    plt.clf()\n",
    "    plt.plot(recall, precision)\n",
    "    plt.xlabel('Recall')\n",
    "    plt.ylabel('Precision')\n",
    "    plt.ylim([0.0, 1.05])\n",
    "    plt.xlim([0.0, 1.0])\n",
    "    plt.show();"
   ]
  },
  {
   "cell_type": "code",
   "execution_count": 66,
   "metadata": {
    "collapsed": false
   },
   "outputs": [
    {
     "name": "stdout",
     "output_type": "stream",
     "text": [
      "ExtraTreesClassifier(bootstrap=False, class_weight=None, criterion='gini',\n",
      "           max_depth=None, max_features='auto', max_leaf_nodes=None,\n",
      "           min_samples_leaf=2, min_samples_split=2,\n",
      "           min_weight_fraction_leaf=0.0, n_estimators=100, n_jobs=-1,\n",
      "           oob_score=False, random_state=None, verbose=0, warm_start=False)\n"
     ]
    },
    {
     "data": {
      "image/png": "[encoded data removed]",
      "text/plain": [
       "<matplotlib.figure.Figure at 0x11e785650>"
      ]
     },
     "metadata": {},
     "output_type": "display_data"
    },
    {
     "name": "stdout",
     "output_type": "stream",
     "text": [
      "\n",
      "ExtraTreesClassifier(bootstrap=True, class_weight=None, criterion='gini',\n",
      "           max_depth=None, max_features=None, max_leaf_nodes=None,\n",
      "           min_samples_leaf=2, min_samples_split=2,\n",
      "           min_weight_fraction_leaf=0.0, n_estimators=500, n_jobs=-1,\n",
      "           oob_score=False, random_state=None, verbose=0, warm_start=False)\n"
     ]
    },
    {
     "data": {
      "image/png": "[encoded data removed]",
      "text/plain": [
       "<matplotlib.figure.Figure at 0x10cad4990>"
      ]
     },
     "metadata": {},
     "output_type": "display_data"
    },
    {
     "name": "stdout",
     "output_type": "stream",
     "text": [
      "\n",
      "GradientBoostingClassifier(init=None, learning_rate=0.5, loss='deviance',\n",
      "              max_depth=3, max_features=None, max_leaf_nodes=None,\n",
      "              min_samples_leaf=1, min_samples_split=2,\n",
      "              min_weight_fraction_leaf=0.0, n_estimators=40,\n",
      "              presort='auto', random_state=42, subsample=1.0, verbose=0,\n",
      "              warm_start=False)\n"
     ]
    },
    {
     "data": {
      "image/png": "[encoded data removed]",
      "text/plain": [
       "<matplotlib.figure.Figure at 0x10e57a890>"
      ]
     },
     "metadata": {},
     "output_type": "display_data"
    },
    {
     "name": "stdout",
     "output_type": "stream",
     "text": [
      "\n",
      "GradientBoostingClassifier(init=None, learning_rate=0.5, loss='deviance',\n",
      "              max_depth=3, max_features=None, max_leaf_nodes=None,\n",
      "              min_samples_leaf=1, min_samples_split=2,\n",
      "              min_weight_fraction_leaf=0.0, n_estimators=80,\n",
      "              presort='auto', random_state=42, subsample=1.0, verbose=0,\n",
      "              warm_start=False)\n"
     ]
    },
    {
     "data": {
      "image/png": "[encoded data removed]",
      "text/plain": [
       "<matplotlib.figure.Figure at 0x120217b10>"
      ]
     },
     "metadata": {},
     "output_type": "display_data"
    },
    {
     "name": "stdout",
     "output_type": "stream",
     "text": [
      "\n",
      "LogisticRegression(C=0.5, class_weight=None, dual=False, fit_intercept=True,\n",
      "          intercept_scaling=1, max_iter=100, multi_class=u'ovr', n_jobs=1,\n",
      "          penalty='l2', random_state=None, solver=u'lbfgs', tol=0.0001,\n",
      "          verbose=0, warm_start=False)\n"
     ]
    },
    {
     "data": {
      "image/png": "[encoded data removed]",
      "text/plain": [
       "<matplotlib.figure.Figure at 0x10f556950>"
      ]
     },
     "metadata": {},
     "output_type": "display_data"
    },
    {
     "name": "stdout",
     "output_type": "stream",
     "text": [
      "\n"
     ]
    }
   ],
   "source": [
    "classifiers = [rf, CV_rf, gd, gd_gridsearch, clf]\n",
    "\n",
    "for c in classifiers:\n",
    "    print c\n",
    "    get_scores(c)\n",
    "    print "
   ]
  },
  {
   "cell_type": "code",
   "execution_count": 75,
   "metadata": {
    "collapsed": false
   },
   "outputs": [
    {
     "data": {
      "image/png": "[encoded data removed]",
      "text/plain": [
       "<matplotlib.figure.Figure at 0x10e090390>"
      ]
     },
     "metadata": {},
     "output_type": "display_data"
    }
   ],
   "source": [
    "y_prods = clf.predict_proba(X_test.toarray())\n",
    "y_prod = [b[i] for i, b in zip(y_test, y_prods)]\n",
    "y_pred = clf.predict(X_test.toarray()) \n",
    "y_true = [1 if a==b else 0 for a,b in zip(y_test, y_pred)]\n",
    "recall, precision, thresh = roc_curve(y_true, y_prod)\n",
    "plt.clf()\n",
    "plt.plot(recall, precision)\n",
    "plt.xlabel('Recall')\n",
    "plt.ylabel('Precision')\n",
    "plt.ylim([0.0, 1.05])\n",
    "plt.xlim([0.0, 1.0])\n",
    "plt.show();"
   ]
  },
  {
   "cell_type": "code",
   "execution_count": 82,
   "metadata": {
    "collapsed": false
   },
   "outputs": [
    {
     "data": {
      "text/plain": [
       "array([ 0.03582697,  0.78368691,  0.03430356,  0.02859727,  0.1175853 ])"
      ]
     },
     "execution_count": 82,
     "metadata": {},
     "output_type": "execute_result"
    }
   ],
   "source": [
    "y_prods[0]"
   ]
  }
 ],
 "metadata": {
  "kernelspec": {
   "display_name": "Python 2",
   "language": "python",
   "name": "python2"
  },
  "language_info": {
   "codemirror_mode": {
    "name": "ipython",
    "version": 2
   },
   "file_extension": ".py",
   "mimetype": "text/x-python",
   "name": "python",
   "nbconvert_exporter": "python",
   "pygments_lexer": "ipython2",
   "version": "2.7.11"
  }
 },
 "nbformat": 4,
 "nbformat_minor": 0
}
